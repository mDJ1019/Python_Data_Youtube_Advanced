{
 "cells": [
  {
   "cell_type": "code",
   "execution_count": 1,
   "id": "02defb32",
   "metadata": {},
   "outputs": [
    {
     "name": "stderr",
     "output_type": "stream",
     "text": [
      "c:\\Users\\Korisnik\\anaconda3\\envs\\python_course\\Lib\\site-packages\\tqdm\\auto.py:21: TqdmWarning: IProgress not found. Please update jupyter and ipywidgets. See https://ipywidgets.readthedocs.io/en/stable/user_install.html\n",
      "  from .autonotebook import tqdm as notebook_tqdm\n"
     ]
    }
   ],
   "source": [
    "# Importing Libraries\n",
    "import ast\n",
    "import pandas as pd\n",
    "from datasets import load_dataset\n",
    "import matplotlib.pyplot as plt  \n",
    "\n",
    "# Loading Data\n",
    "dataset = load_dataset('lukebarousse/data_jobs')\n",
    "df = dataset['train'].to_pandas()\n",
    "\n",
    "# Data Cleanup\n",
    "df['job_posted_date'] = pd.to_datetime(df['job_posted_date'])"
   ]
  },
  {
   "cell_type": "code",
   "execution_count": 2,
   "id": "bdde831a",
   "metadata": {},
   "outputs": [
    {
     "data": {
      "text/html": [
       "<div>\n",
       "<style scoped>\n",
       "    .dataframe tbody tr th:only-of-type {\n",
       "        vertical-align: middle;\n",
       "    }\n",
       "\n",
       "    .dataframe tbody tr th {\n",
       "        vertical-align: top;\n",
       "    }\n",
       "\n",
       "    .dataframe thead th {\n",
       "        text-align: right;\n",
       "    }\n",
       "</style>\n",
       "<table border=\"1\" class=\"dataframe\">\n",
       "  <thead>\n",
       "    <tr style=\"text-align: right;\">\n",
       "      <th></th>\n",
       "      <th>job_title_short</th>\n",
       "      <th>job_skills</th>\n",
       "    </tr>\n",
       "  </thead>\n",
       "  <tbody>\n",
       "    <tr>\n",
       "      <th>0</th>\n",
       "      <td>Data Analyst</td>\n",
       "      <td>[excel, sql, python]</td>\n",
       "    </tr>\n",
       "    <tr>\n",
       "      <th>1</th>\n",
       "      <td>Data Scientist</td>\n",
       "      <td>[python, r]</td>\n",
       "    </tr>\n",
       "    <tr>\n",
       "      <th>2</th>\n",
       "      <td>Data Engineer</td>\n",
       "      <td>[aws, python, airflow]</td>\n",
       "    </tr>\n",
       "  </tbody>\n",
       "</table>\n",
       "</div>"
      ],
      "text/plain": [
       "  job_title_short              job_skills\n",
       "0    Data Analyst    [excel, sql, python]\n",
       "1  Data Scientist             [python, r]\n",
       "2   Data Engineer  [aws, python, airflow]"
      ]
     },
     "execution_count": 2,
     "metadata": {},
     "output_type": "execute_result"
    }
   ],
   "source": [
    "data = {\n",
    "    'job_title_short': ['Data Analyst', 'Data Scientist', 'Data Engineer'],\n",
    "    'job_skills': [['excel', 'sql', 'python'], ['python', 'r'], ['aws', 'python', 'airflow']]\n",
    "}\n",
    "\n",
    "df_skills = pd.DataFrame(data)\n",
    "\n",
    "df_skills"
   ]
  },
  {
   "cell_type": "code",
   "execution_count": 5,
   "id": "b4c290b1",
   "metadata": {},
   "outputs": [
    {
     "data": {
      "text/plain": [
       "<Axes: xlabel='job_skills'>"
      ]
     },
     "execution_count": 5,
     "metadata": {},
     "output_type": "execute_result"
    },
    {
     "data": {
      "image/png": "[encoded data removed]",
      "text/plain": [
       "<Figure size 640x480 with 1 Axes>"
      ]
     },
     "metadata": {},
     "output_type": "display_data"
    }
   ],
   "source": [
    "df_skills.explode('job_skills').value_counts('job_skills').plot(kind='bar')"
   ]
  },
  {
   "cell_type": "code",
   "execution_count": 6,
   "id": "35b14801",
   "metadata": {},
   "outputs": [
    {
     "data": {
      "text/html": [
       "<div>\n",
       "<style scoped>\n",
       "    .dataframe tbody tr th:only-of-type {\n",
       "        vertical-align: middle;\n",
       "    }\n",
       "\n",
       "    .dataframe tbody tr th {\n",
       "        vertical-align: top;\n",
       "    }\n",
       "\n",
       "    .dataframe thead th {\n",
       "        text-align: right;\n",
       "    }\n",
       "</style>\n",
       "<table border=\"1\" class=\"dataframe\">\n",
       "  <thead>\n",
       "    <tr style=\"text-align: right;\">\n",
       "      <th></th>\n",
       "      <th>job_title_short</th>\n",
       "      <th>job_skills</th>\n",
       "    </tr>\n",
       "  </thead>\n",
       "  <tbody>\n",
       "    <tr>\n",
       "      <th>0</th>\n",
       "      <td>Senior Data Engineer</td>\n",
       "      <td>None</td>\n",
       "    </tr>\n",
       "    <tr>\n",
       "      <th>1</th>\n",
       "      <td>Data Analyst</td>\n",
       "      <td>[r, python, sql, nosql, power bi, tableau]</td>\n",
       "    </tr>\n",
       "    <tr>\n",
       "      <th>2</th>\n",
       "      <td>Data Engineer</td>\n",
       "      <td>[python, sql, c#, azure, airflow, dax, docker,...</td>\n",
       "    </tr>\n",
       "    <tr>\n",
       "      <th>3</th>\n",
       "      <td>Data Engineer</td>\n",
       "      <td>[python, c++, java, matlab, aws, tensorflow, k...</td>\n",
       "    </tr>\n",
       "    <tr>\n",
       "      <th>4</th>\n",
       "      <td>Data Engineer</td>\n",
       "      <td>[bash, python, oracle, aws, ansible, puppet, j...</td>\n",
       "    </tr>\n",
       "  </tbody>\n",
       "</table>\n",
       "</div>"
      ],
      "text/plain": [
       "        job_title_short                                         job_skills\n",
       "0  Senior Data Engineer                                               None\n",
       "1          Data Analyst         [r, python, sql, nosql, power bi, tableau]\n",
       "2         Data Engineer  [python, sql, c#, azure, airflow, dax, docker,...\n",
       "3         Data Engineer  [python, c++, java, matlab, aws, tensorflow, k...\n",
       "4         Data Engineer  [bash, python, oracle, aws, ansible, puppet, j..."
      ]
     },
     "execution_count": 6,
     "metadata": {},
     "output_type": "execute_result"
    }
   ],
   "source": [
    "# Convert string representation to actual list, checking for NaN values first\n",
    "df['job_skills'] = df['job_skills'].apply(lambda x: ast.literal_eval(x) if pd.notna(x) else x)\n",
    "\n",
    "df[['job_title_short', 'job_skills']].head(5)"
   ]
  },
  {
   "cell_type": "code",
   "execution_count": 10,
   "id": "ee9758d4",
   "metadata": {},
   "outputs": [],
   "source": [
    "# Explode 'job_skills' so each skill gets its own row\n",
    "df_exploded = df.explode('job_skills')"
   ]
  },
  {
   "cell_type": "code",
   "execution_count": 14,
   "id": "ca36c456",
   "metadata": {},
   "outputs": [],
   "source": [
    "skills_count = df_exploded.groupby(['job_skills','job_title_short']).size()"
   ]
  },
  {
   "cell_type": "code",
   "execution_count": 19,
   "id": "b310957c",
   "metadata": {},
   "outputs": [
    {
     "data": {
      "text/html": [
       "<div>\n",
       "<style scoped>\n",
       "    .dataframe tbody tr th:only-of-type {\n",
       "        vertical-align: middle;\n",
       "    }\n",
       "\n",
       "    .dataframe tbody tr th {\n",
       "        vertical-align: top;\n",
       "    }\n",
       "\n",
       "    .dataframe thead th {\n",
       "        text-align: right;\n",
       "    }\n",
       "</style>\n",
       "<table border=\"1\" class=\"dataframe\">\n",
       "  <thead>\n",
       "    <tr style=\"text-align: right;\">\n",
       "      <th></th>\n",
       "      <th>job_skills</th>\n",
       "      <th>job_title_short</th>\n",
       "      <th>skill_count</th>\n",
       "    </tr>\n",
       "  </thead>\n",
       "  <tbody>\n",
       "    <tr>\n",
       "      <th>1480</th>\n",
       "      <td>python</td>\n",
       "      <td>Data Scientist</td>\n",
       "      <td>113711</td>\n",
       "    </tr>\n",
       "    <tr>\n",
       "      <th>1822</th>\n",
       "      <td>sql</td>\n",
       "      <td>Data Engineer</td>\n",
       "      <td>113130</td>\n",
       "    </tr>\n",
       "    <tr>\n",
       "      <th>1479</th>\n",
       "      <td>python</td>\n",
       "      <td>Data Engineer</td>\n",
       "      <td>108022</td>\n",
       "    </tr>\n",
       "    <tr>\n",
       "      <th>1821</th>\n",
       "      <td>sql</td>\n",
       "      <td>Data Analyst</td>\n",
       "      <td>92428</td>\n",
       "    </tr>\n",
       "    <tr>\n",
       "      <th>1823</th>\n",
       "      <td>sql</td>\n",
       "      <td>Data Scientist</td>\n",
       "      <td>78982</td>\n",
       "    </tr>\n",
       "    <tr>\n",
       "      <th>...</th>\n",
       "      <td>...</td>\n",
       "      <td>...</td>\n",
       "      <td>...</td>\n",
       "    </tr>\n",
       "    <tr>\n",
       "      <th>2173</th>\n",
       "      <td>webex</td>\n",
       "      <td>Senior Data Scientist</td>\n",
       "      <td>1</td>\n",
       "    </tr>\n",
       "    <tr>\n",
       "      <th>293</th>\n",
       "      <td>codecommit</td>\n",
       "      <td>Business Analyst</td>\n",
       "      <td>1</td>\n",
       "    </tr>\n",
       "    <tr>\n",
       "      <th>2233</th>\n",
       "      <td>xamarin</td>\n",
       "      <td>Machine Learning Engineer</td>\n",
       "      <td>1</td>\n",
       "    </tr>\n",
       "    <tr>\n",
       "      <th>1087</th>\n",
       "      <td>mlr</td>\n",
       "      <td>Machine Learning Engineer</td>\n",
       "      <td>1</td>\n",
       "    </tr>\n",
       "    <tr>\n",
       "      <th>1093</th>\n",
       "      <td>monday.com</td>\n",
       "      <td>Machine Learning Engineer</td>\n",
       "      <td>1</td>\n",
       "    </tr>\n",
       "  </tbody>\n",
       "</table>\n",
       "<p>2256 rows × 3 columns</p>\n",
       "</div>"
      ],
      "text/plain": [
       "      job_skills            job_title_short  skill_count\n",
       "1480      python             Data Scientist       113711\n",
       "1822         sql              Data Engineer       113130\n",
       "1479      python              Data Engineer       108022\n",
       "1821         sql               Data Analyst        92428\n",
       "1823         sql             Data Scientist        78982\n",
       "...          ...                        ...          ...\n",
       "2173       webex      Senior Data Scientist            1\n",
       "293   codecommit           Business Analyst            1\n",
       "2233     xamarin  Machine Learning Engineer            1\n",
       "1087         mlr  Machine Learning Engineer            1\n",
       "1093  monday.com  Machine Learning Engineer            1\n",
       "\n",
       "[2256 rows x 3 columns]"
      ]
     },
     "execution_count": 19,
     "metadata": {},
     "output_type": "execute_result"
    }
   ],
   "source": [
    "df_skills_count = skills_count.reset_index(name='skill_count')\n",
    "\n",
    "df_skills_count = df_skills_count.sort_values(by='skill_count', ascending=False)\n",
    "\n",
    "df_skills_count"
   ]
  },
  {
   "cell_type": "code",
   "execution_count": 9,
   "id": "c65e3db9",
   "metadata": {},
   "outputs": [
    {
     "data": {
      "text/plain": [
       "<Axes: xlabel='job_skills'>"
      ]
     },
     "execution_count": 9,
     "metadata": {},
     "output_type": "execute_result"
    },
    {
     "data": {
      "image/png": "[encoded data removed]",
      "text/plain": [
       "<Figure size 640x480 with 1 Axes>"
      ]
     },
     "metadata": {},
     "output_type": "display_data"
    }
   ],
   "source": [
    "df_exploded['job_skills'].value_counts().head(10).plot(kind='bar')"
   ]
  },
  {
   "cell_type": "code",
   "execution_count": 30,
   "id": "5ea0592e",
   "metadata": {},
   "outputs": [
    {
     "data": {
      "image/png": "[encoded data removed]",
      "text/plain": [
       "<Figure size 640x480 with 1 Axes>"
      ]
     },
     "metadata": {},
     "output_type": "display_data"
    }
   ],
   "source": [
    "job_title = 'Data Analyst'\n",
    "top_skills = 15\n",
    "\n",
    "df_skill_final = df_skills_count[df_skills_count['job_title_short']== job_title].head(top_skills)\n",
    "\n",
    "df_skill_final.plot(kind='barh', x='job_skills', y='skill_count')\n",
    "\n",
    "plt.gca().invert_yaxis()\n",
    "plt.title(f'Top{top_skills} Skills for {job_title}s')\n",
    "plt.xlabel('Job posting count')\n",
    "plt.ylabel('')\n",
    "plt.legend().set_visible(False)\n",
    "plt.show()"
   ]
  },
  {
   "cell_type": "code",
   "execution_count": null,
   "id": "44300ed5",
   "metadata": {},
   "outputs": [],
   "source": []
  }
 ],
 "metadata": {
  "kernelspec": {
   "display_name": "python_course",
   "language": "python",
   "name": "python3"
  },
  "language_info": {
   "codemirror_mode": {
    "name": "ipython",
    "version": 3
   },
   "file_extension": ".py",
   "mimetype": "text/x-python",
   "name": "python",
   "nbconvert_exporter": "python",
   "pygments_lexer": "ipython3",
   "version": "3.12.9"
  }
 },
 "nbformat": 4,
 "nbformat_minor": 5
}
