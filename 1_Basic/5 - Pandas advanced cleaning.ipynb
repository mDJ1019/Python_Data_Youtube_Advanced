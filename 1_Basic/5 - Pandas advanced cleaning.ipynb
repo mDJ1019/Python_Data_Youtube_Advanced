{
 "cells": [
  {
   "cell_type": "code",
   "execution_count": 1,
   "id": "5c614195",
   "metadata": {},
   "outputs": [
    {
     "name": "stderr",
     "output_type": "stream",
     "text": [
      "c:\\Users\\Korisnik\\anaconda3\\envs\\python_course\\Lib\\site-packages\\tqdm\\auto.py:21: TqdmWarning: IProgress not found. Please update jupyter and ipywidgets. See https://ipywidgets.readthedocs.io/en/stable/user_install.html\n",
      "  from .autonotebook import tqdm as notebook_tqdm\n"
     ]
    }
   ],
   "source": [
    "# Importing Libraries\n",
    "import pandas as pd\n",
    "from datasets import load_dataset\n",
    "import matplotlib.pyplot as plt\n",
    "\n",
    "# Loading Datadataset \n",
    "dataset = load_dataset('lukebarousse/data_jobs')\n",
    "df = dataset['train'].to_pandas()\n",
    "\n",
    "# Data Cleanup\n",
    "df['job_posted_date'] = pd.to_datetime(df['job_posted_date'])"
   ]
  },
  {
   "cell_type": "markdown",
   "id": "0eb5be1b",
   "metadata": {},
   "source": [
    "Problem Statement:\n",
    "Remove rows where the salary_year_avg column has missing values. Display the number of rows before and after removing.\n",
    "\n",
    "Hint:\n",
    "Use the df.dropna() function with the subset parameter set to salary_year_avg."
   ]
  },
  {
   "cell_type": "code",
   "execution_count": 2,
   "id": "a422a4b3",
   "metadata": {},
   "outputs": [
    {
     "data": {
      "text/plain": [
       "785741"
      ]
     },
     "execution_count": 2,
     "metadata": {},
     "output_type": "execute_result"
    }
   ],
   "source": [
    "len(df)"
   ]
  },
  {
   "cell_type": "code",
   "execution_count": 3,
   "id": "522ae020",
   "metadata": {},
   "outputs": [
    {
     "data": {
      "text/plain": [
       "22003"
      ]
     },
     "execution_count": 3,
     "metadata": {},
     "output_type": "execute_result"
    }
   ],
   "source": [
    "after = df.dropna(subset='salary_year_avg')\n",
    "len(after)"
   ]
  },
  {
   "cell_type": "markdown",
   "id": "981727a4",
   "metadata": {},
   "source": [
    "Problem Statement:\n",
    "Remove duplicate rows from the DataFrame based on the job_location column. Display the number of rows before and after removing duplicates.\n",
    "\n",
    "Hint:\n",
    "Use the df.drop_duplicates() function with the subset parameter set to job_location."
   ]
  },
  {
   "cell_type": "code",
   "execution_count": 5,
   "id": "111ada3e",
   "metadata": {},
   "outputs": [
    {
     "data": {
      "text/plain": [
       "(17218, 17)"
      ]
     },
     "execution_count": 5,
     "metadata": {},
     "output_type": "execute_result"
    }
   ],
   "source": [
    "removed_dupl = df.drop_duplicates(subset='job_location')\n",
    "len(removed_dupl)\n",
    "removed_dupl.shape"
   ]
  },
  {
   "cell_type": "markdown",
   "id": "e9616993",
   "metadata": {},
   "source": [
    "Problem Statement:\n",
    "Fill missing values in the salary_rate column with the string 'Unknown'. Display the first 10 rows of the salary_rate column before and after filling.\n",
    "\n",
    "Hint:\n",
    "Use the df.fillna() function with the value parameter set to 'Unknown'."
   ]
  },
  {
   "cell_type": "code",
   "execution_count": 7,
   "id": "4e53cbde",
   "metadata": {},
   "outputs": [
    {
     "data": {
      "text/plain": [
       "0    None\n",
       "1    None\n",
       "2    None\n",
       "3    None\n",
       "4    None\n",
       "5    None\n",
       "6    None\n",
       "7    None\n",
       "8    None\n",
       "9    None\n",
       "Name: salary_rate, dtype: object"
      ]
     },
     "execution_count": 7,
     "metadata": {},
     "output_type": "execute_result"
    }
   ],
   "source": [
    "before = df['salary_rate'].head(10)\n",
    "before"
   ]
  },
  {
   "cell_type": "code",
   "execution_count": 9,
   "id": "b78a238c",
   "metadata": {},
   "outputs": [
    {
     "data": {
      "text/plain": [
       "0    Unknown\n",
       "1    Unknown\n",
       "2    Unknown\n",
       "3    Unknown\n",
       "4    Unknown\n",
       "5    Unknown\n",
       "6    Unknown\n",
       "7    Unknown\n",
       "8    Unknown\n",
       "9    Unknown\n",
       "Name: salary_rate, dtype: object"
      ]
     },
     "execution_count": 9,
     "metadata": {},
     "output_type": "execute_result"
    }
   ],
   "source": [
    "after = df['salary_rate'].fillna('Unknown')\n",
    "after.head(10)"
   ]
  },
  {
   "cell_type": "code",
   "execution_count": 10,
   "id": "57b5dc0a",
   "metadata": {},
   "outputs": [
    {
     "data": {
      "text/plain": [
       "(0    None\n",
       " 1    None\n",
       " 2    None\n",
       " 3    None\n",
       " 4    None\n",
       " 5    None\n",
       " 6    None\n",
       " 7    None\n",
       " 8    None\n",
       " 9    None\n",
       " Name: salary_rate, dtype: object,\n",
       " 0    Unknown\n",
       " 1    Unknown\n",
       " 2    Unknown\n",
       " 3    Unknown\n",
       " 4    Unknown\n",
       " 5    Unknown\n",
       " 6    Unknown\n",
       " 7    Unknown\n",
       " 8    Unknown\n",
       " 9    Unknown\n",
       " Name: salary_rate, dtype: object)"
      ]
     },
     "execution_count": 10,
     "metadata": {},
     "output_type": "execute_result"
    }
   ],
   "source": [
    "salary_rate_before = df['salary_rate'].head(10)\n",
    "df_filled = df.fillna({'salary_rate': 'Unknown'})\n",
    "salary_rate_after = df_filled['salary_rate'].head(10)\n",
    "salary_rate_before, salary_rate_after"
   ]
  },
  {
   "cell_type": "code",
   "execution_count": null,
   "id": "f3d5837a",
   "metadata": {},
   "outputs": [],
   "source": []
  }
 ],
 "metadata": {
  "kernelspec": {
   "display_name": "python_course",
   "language": "python",
   "name": "python3"
  },
  "language_info": {
   "codemirror_mode": {
    "name": "ipython",
    "version": 3
   },
   "file_extension": ".py",
   "mimetype": "text/x-python",
   "name": "python",
   "nbconvert_exporter": "python",
   "pygments_lexer": "ipython3",
   "version": "3.12.9"
  }
 },
 "nbformat": 4,
 "nbformat_minor": 5
}
