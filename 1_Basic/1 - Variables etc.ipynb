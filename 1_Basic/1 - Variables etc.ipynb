{
 "cells": [
  {
   "cell_type": "markdown",
   "id": "60aa2c3e",
   "metadata": {},
   "source": [
    "Problem Statement:\n",
    "Create a variable, called job_count to store the number 42. Print job_count once calculated."
   ]
  },
  {
   "cell_type": "code",
   "execution_count": 1,
   "id": "f5bb3694",
   "metadata": {},
   "outputs": [
    {
     "name": "stdout",
     "output_type": "stream",
     "text": [
      "42\n"
     ]
    }
   ],
   "source": [
    "job_count = 42\n",
    "print(job_count)"
   ]
  },
  {
   "cell_type": "markdown",
   "id": "89d5ac1d",
   "metadata": {},
   "source": [
    "Problem Statement:\n",
    "Create variables to store the job title, company name, and whether the job is remote for a Data Engineer position. Set the job title to 'Data Engineer', the company name to 'DataWorks', and the remote status to True. Print all the variables."
   ]
  },
  {
   "cell_type": "code",
   "execution_count": 2,
   "id": "df53be84",
   "metadata": {},
   "outputs": [],
   "source": [
    "job_title = 'Data Engineer'\n",
    "company_name = 'Dataworks'\n",
    "remote_status = True"
   ]
  },
  {
   "cell_type": "markdown",
   "id": "c3e33ac4",
   "metadata": {},
   "source": [
    "Problem Statement:\n",
    "Calculate the total compensation for a Data Scientist by adding two variables of base_salary and bonus. The base salary is 120000 and the bonus is 20000. Store the result in a variable named total_compensation. Print total_compensation once calculated."
   ]
  },
  {
   "cell_type": "code",
   "execution_count": 3,
   "id": "d81b2a46",
   "metadata": {},
   "outputs": [
    {
     "name": "stdout",
     "output_type": "stream",
     "text": [
      "140000\n"
     ]
    }
   ],
   "source": [
    "base_salary = 120000\n",
    "bonus = 20000\n",
    "\n",
    "total_compensation = base_salary + bonus\n",
    "print(total_compensation)"
   ]
  },
  {
   "cell_type": "markdown",
   "id": "97135aac",
   "metadata": {},
   "source": [
    "Problem Statement:\n",
    "Use a while loop to find the first job title that contains the word 'Engineer'. The list of job titles is ['Data Scientist', 'Data Analyst', 'Machine Learning Engineer', 'Software Engineer']."
   ]
  },
  {
   "cell_type": "code",
   "execution_count": 5,
   "id": "06e67221",
   "metadata": {},
   "outputs": [
    {
     "data": {
      "text/plain": [
       "['Data Scientist',\n",
       " 'Data Analyst',\n",
       " 'Machine Learning Engineer',\n",
       " 'Software Engineer']"
      ]
     },
     "execution_count": 5,
     "metadata": {},
     "output_type": "execute_result"
    }
   ],
   "source": [
    "job_titles = ['Data Scientist', 'Data Analyst', 'Machine Learning Engineer', 'Software Engineer']\n",
    "job_titles"
   ]
  },
  {
   "cell_type": "code",
   "execution_count": 7,
   "id": "29ef0579",
   "metadata": {},
   "outputs": [
    {
     "name": "stdout",
     "output_type": "stream",
     "text": [
      "Machine Learning Engineer\n"
     ]
    }
   ],
   "source": [
    "not_found = True\n",
    "idx = 0\n",
    "while not_found:\n",
    "    if 'Engineer' in job_titles[idx]:\n",
    "        print(job_titles[idx])\n",
    "        not_found = False\n",
    "    idx += 1"
   ]
  },
  {
   "cell_type": "markdown",
   "id": "13eee299",
   "metadata": {},
   "source": [
    "Problem Statement:\n",
    "You have the following dictionary of positions_skills which is set to {'Data Scientist': ['Python', 'R'], 'Data Analyst': ['SQL', 'Excel'], 'Machine Learning Engineer': ['Python', 'TensorFlow']}. The keys are a data science position, and the values are a list of skills required for the position. Print a message for each individual skill required for these data science positions (e.g., \"The role of Data Scientist requires proficiency in Python\")."
   ]
  },
  {
   "cell_type": "code",
   "execution_count": 8,
   "id": "95221d45",
   "metadata": {},
   "outputs": [],
   "source": [
    "positions_skills = {\n",
    "    'Data Scientist': ['Python', 'R'],\n",
    "    'Data Analyst': ['SQL', 'Excel'],\n",
    "    'Machine Learning Engineer': ['Python', 'TensorFlow']\n",
    "}"
   ]
  },
  {
   "cell_type": "code",
   "execution_count": 11,
   "id": "7ac9738c",
   "metadata": {},
   "outputs": [
    {
     "name": "stdout",
     "output_type": "stream",
     "text": [
      "The role of Data Scientist requires proficiency in Python and R\n",
      "The role of Data Analyst requires proficiency in SQL and Excel\n",
      "The role of Machine Learning Engineer requires proficiency in Python and TensorFlow\n"
     ]
    }
   ],
   "source": [
    "for key, value in positions_skills.items():\n",
    "    print(f'The role of {key} requires proficiency in {value[0]} and {value[1]}')"
   ]
  },
  {
   "cell_type": "markdown",
   "id": "26781e0a",
   "metadata": {},
   "source": [
    "Problem Statement:\n",
    "Create a list of data science job titles that require more than 2 years of experience from the given dictionary. With job_experience set to {'Data Scientist': 3, 'Data Analyst': 1, 'Machine Learning Specialist': 4, 'Data Engineer': 2}."
   ]
  },
  {
   "cell_type": "code",
   "execution_count": 1,
   "id": "8bfd76c5",
   "metadata": {},
   "outputs": [
    {
     "name": "stdout",
     "output_type": "stream",
     "text": [
      "['Data Scientist', 'Machine Learning Specialist']\n"
     ]
    }
   ],
   "source": [
    "job_experience = {'Data Scientist': 3, 'Data Analyst': 1, 'Machine Learning Specialist': 4, 'Data Engineer': 2}\n",
    "\n",
    "jobs = [key for key, value in job_experience.items() if value > 2]\n",
    "print(jobs)"
   ]
  },
  {
   "cell_type": "markdown",
   "id": "25315051",
   "metadata": {},
   "source": [
    "Problem Statement:\n",
    "Create a list comprehension that extracts job titles with salaries greater than 90,000 from a given list of dictionaries containing job titles and salaries. The dictionary is job_salary_dicts named and it is set to [{'job_title': 'Data Scientist', 'salary': 100000}, {'job_title': 'Data Analyst', 'salary': 120000}, {'job_title': 'Data Engineer', 'salary': 80000}, {'job_title': 'Machine Learning Engineer', 'salary': 90000}]."
   ]
  },
  {
   "cell_type": "code",
   "execution_count": 3,
   "id": "bc10f24a",
   "metadata": {},
   "outputs": [],
   "source": [
    "job_salary_dicts = [  \n",
    "    {'job_title': 'Data Scientist', 'salary': 100000},\n",
    "    {'job_title': 'Data Analyst', 'salary': 120000},\n",
    "    {'job_title': 'Data Engineer', 'salary': 80000},\n",
    "    {'job_title': 'Machine Learning Engineer', 'salary': 90000}\n",
    "]\n"
   ]
  },
  {
   "cell_type": "code",
   "execution_count": 13,
   "id": "4f290c40",
   "metadata": {},
   "outputs": [
    {
     "name": "stdout",
     "output_type": "stream",
     "text": [
      "['Data Scientist', 'Data Analyst']\n"
     ]
    }
   ],
   "source": [
    "jobs = [job['job_title'] for job in job_salary_dicts if job['salary'] > 90000]\n",
    "print(jobs)\n"
   ]
  },
  {
   "cell_type": "markdown",
   "id": "8d342846",
   "metadata": {},
   "source": [
    "Problem Statement:\n",
    "Create a function job_posting_summary that takes a list of job postings, where each posting is a dictionary with keys 'title', 'location', and 'salary', and returns a summary dictionary with the total number of postings, the average salary, and a list of unique locations. The job_postings is set to [{'title': 'Data Scientist', 'location': 'New York', 'salary': 95000}, {'title': 'Data Analyst', 'location': 'San Francisco', 'salary': 85000}, {'title': 'Machine Learning Engineer', 'location': 'New York', 'salary': 115000}]."
   ]
  },
  {
   "cell_type": "code",
   "execution_count": 14,
   "id": "1eea0ff6",
   "metadata": {},
   "outputs": [],
   "source": [
    "job_postings = [\n",
    "    {'title': 'Data Scientist', 'location': 'New York', 'salary': 95000},\n",
    "    {'title': 'Data Analyst', 'location': 'San Francisco', 'salary': 85000},\n",
    "    {'title': 'Machine Learning Engineer', 'location': 'New York', 'salary': 115000}\n",
    "]\n"
   ]
  },
  {
   "cell_type": "code",
   "execution_count": 29,
   "id": "6131ba52",
   "metadata": {},
   "outputs": [
    {
     "name": "stdout",
     "output_type": "stream",
     "text": [
      "{'total_postings': 3, 'average_salary': 98333.33333333333, 'unique_locations': ['New York', 'San Francisco']}\n"
     ]
    }
   ],
   "source": [
    "def job_posting_summary(job_postings):\n",
    "    return {\n",
    "        'total_postings': len(job_postings),\n",
    "        'average_salary': sum([job['salary'] for job in job_postings])/len(job_postings),\n",
    "        'unique_locations': list(set([job['location'] for job in job_postings]))\n",
    "    }\n",
    "\n",
    "dictionary = job_posting_summary(job_postings)\n",
    "print(dictionary)"
   ]
  },
  {
   "cell_type": "code",
   "execution_count": 28,
   "id": "e384119a",
   "metadata": {},
   "outputs": [
    {
     "data": {
      "text/plain": [
       "{'total_postings': 3,\n",
       " 'average_salary': 98333.33333333333,\n",
       " 'unique_locations': ['New York', 'San Francisco']}"
      ]
     },
     "execution_count": 28,
     "metadata": {},
     "output_type": "execute_result"
    }
   ],
   "source": [
    "def job_posting_summary(job_postings):\n",
    "    total_postings = len(job_postings)\n",
    "    total_salary = sum(posting['salary'] for posting in job_postings)\n",
    "    average_salary = total_salary / total_postings\n",
    "    unique_locations = list(set(posting['location'] for posting in job_postings))\n",
    "    return {\n",
    "        'total_postings': total_postings,\n",
    "        'average_salary': average_salary,\n",
    "        'unique_locations': unique_locations\n",
    "    }\n",
    "\n",
    "job_postings = [\n",
    "    {'title': 'Data Scientist', 'location': 'New York', 'salary': 95000},\n",
    "    {'title': 'Data Analyst', 'location': 'San Francisco', 'salary': 85000},\n",
    "    {'title': 'Machine Learning Engineer', 'location': 'New York', 'salary': 115000}\n",
    "]\n",
    "job_posting_summary(job_postings)"
   ]
  },
  {
   "cell_type": "markdown",
   "id": "f0863b70",
   "metadata": {},
   "source": [
    "Problem Statement:\n",
    "Create a lambda function to calculate the average salary from a list of salaries. With salaries set as [95000, 120000, 105000, 90000, 130000]."
   ]
  },
  {
   "cell_type": "code",
   "execution_count": 30,
   "id": "3ed2a011",
   "metadata": {},
   "outputs": [],
   "source": [
    "salaries = [95000, 120000, 105000, 90000, 130000]\n"
   ]
  },
  {
   "cell_type": "code",
   "execution_count": 35,
   "id": "7fcd7b06",
   "metadata": {},
   "outputs": [
    {
     "data": {
      "text/plain": [
       "108000.0"
      ]
     },
     "execution_count": 35,
     "metadata": {},
     "output_type": "execute_result"
    }
   ],
   "source": [
    "res = (lambda x: sum(x)/len(x))(salaries)\n",
    "res"
   ]
  },
  {
   "cell_type": "code",
   "execution_count": 36,
   "id": "bfc8f015",
   "metadata": {},
   "outputs": [
    {
     "name": "stdout",
     "output_type": "stream",
     "text": [
      "Average Salary: 108000.0\n"
     ]
    }
   ],
   "source": [
    "\n",
    "average_salary = (lambda s: sum(s) / len(s))(salaries)\n",
    "\n",
    "print(\"Average Salary:\", average_salary)"
   ]
  },
  {
   "cell_type": "markdown",
   "id": "beba55b2",
   "metadata": {},
   "source": [
    "Problem Statement:\n",
    "Create a lambda function to check if a job title contains the word 'Data' and use it to filter a list of job titles. With job_titles set to ['Data Scientist', 'Data Engineer', 'Machine Learning Engineer', 'Data Analyst']."
   ]
  },
  {
   "cell_type": "code",
   "execution_count": 40,
   "id": "ebd88a6b",
   "metadata": {},
   "outputs": [
    {
     "name": "stdout",
     "output_type": "stream",
     "text": [
      "['Data Scientist', 'Data Engineer', 'Data Analyst']\n"
     ]
    }
   ],
   "source": [
    "job_titles = ['Data Scientist', 'Data Engineer', 'Machine Learning Engineer', 'Data Analyst']\n",
    "\n",
    "# Lambda funkcija koja proverava da li 'Data' postoji u stringu\n",
    "contains_data = lambda title: 'Data' in title\n",
    "\n",
    "# Filterujemo sve naslove koji sadrže 'Data'\n",
    "filtered_jobs = list(filter(contains_data, job_titles))\n",
    "\n",
    "print(filtered_jobs)"
   ]
  },
  {
   "cell_type": "markdown",
   "id": "906ba475",
   "metadata": {},
   "source": [
    "Problem Statement:\n",
    "Create a lambda function to filter remote job postings that require Python skills from a list of job postings. The list for the variable job_postings is shown below.\n"
   ]
  },
  {
   "cell_type": "code",
   "execution_count": 43,
   "id": "ecbb4fee",
   "metadata": {},
   "outputs": [
    {
     "data": {
      "text/plain": [
       "[{'title': 'Data Scientist', 'skills': ['Python', 'SQL'], 'remote': True},\n",
       " {'title': 'Machine Learning Engineer',\n",
       "  'skills': ['Python', 'TensorFlow'],\n",
       "  'remote': True}]"
      ]
     },
     "execution_count": 43,
     "metadata": {},
     "output_type": "execute_result"
    }
   ],
   "source": [
    "job_postings = [\n",
    "    {'title': 'Data Scientist', 'skills': ['Python', 'SQL'], 'remote': True},\n",
    "    {'title': 'Data Analyst', 'skills': ['Excel', 'SQL'], 'remote': False},\n",
    "    {'title': 'Machine Learning Engineer', 'skills': ['Python', 'TensorFlow'], 'remote': True},\n",
    "    {'title': 'Software Developer', 'skills': ['Java', 'C++'], 'remote': True}\n",
    "]\n",
    "\n",
    "remote_python_postings = list(filter((lambda posting: 'Python' in posting['skills'] and posting['remote']), job_postings))\n",
    "remote_python_postings\n"
   ]
  },
  {
   "cell_type": "markdown",
   "id": "185ce29f",
   "metadata": {},
   "source": [
    "Problem Statement:\n",
    "Create a class named JobPosting with attributes title, company, and location.\n",
    "Create an instance of an object (called job) of this class with the title 'Data Scientist', company 'Tech Innovations', and location 'New York'.\n",
    "Print the attributes of the object."
   ]
  },
  {
   "cell_type": "code",
   "execution_count": 45,
   "id": "ad678372",
   "metadata": {},
   "outputs": [],
   "source": [
    "class JobPosting:\n",
    "    def __init__(self, title, company, location):\n",
    "        self.title = title\n",
    "        self.company = company\n",
    "        self.location = location"
   ]
  },
  {
   "cell_type": "code",
   "execution_count": 48,
   "id": "3d886ff0",
   "metadata": {},
   "outputs": [
    {
     "name": "stdout",
     "output_type": "stream",
     "text": [
      "Tech Innovations\n",
      "New York\n",
      "Data Scientist\n"
     ]
    }
   ],
   "source": [
    "job = JobPosting('Data Scientist', 'Tech Innovations', 'New York')\n",
    "print(job.company)\n",
    "print(job.location)\n",
    "print(job.title)"
   ]
  },
  {
   "cell_type": "markdown",
   "id": "7b2d5797",
   "metadata": {},
   "source": [
    "Problem Statement:\n",
    "Create a class named JobPosting with a method to_dict that converts the job posting details to a dictionary.\n",
    "Instantiate an object (called job) of this class with the title 'Data Scientist', company 'Tech Innovations', location 'New York', and salary as 120000.\n",
    "Convert its details to a dictionary using the to_dict method.\n",
    "Print the dictionary."
   ]
  },
  {
   "cell_type": "code",
   "execution_count": 60,
   "id": "f631b1d3",
   "metadata": {},
   "outputs": [],
   "source": [
    "class JobPosting:\n",
    "    def __init__(self, title, company, location, salary):\n",
    "        self.title = title\n",
    "        self.company = company\n",
    "        self.location = location\n",
    "        self.salary = salary\n",
    "\n",
    "    def to_dict(self):\n",
    "        return {\n",
    "            'title': self.title,\n",
    "            'company': self.company,\n",
    "            'location': self.location,\n",
    "            'salary': self.salary\n",
    "        }"
   ]
  },
  {
   "cell_type": "code",
   "execution_count": 62,
   "id": "15f3f274",
   "metadata": {},
   "outputs": [
    {
     "name": "stdout",
     "output_type": "stream",
     "text": [
      "Tech Innovations\n",
      "New York\n",
      "Data Scientist\n",
      "120000\n",
      "{'title': 'Data Scientist', 'company': 'Tech Innovations', 'location': 'New York', 'salary': 120000}\n"
     ]
    }
   ],
   "source": [
    "job = JobPosting('Data Scientist', 'Tech Innovations', 'New York', 120000)\n",
    "print(job.company)\n",
    "print(job.location)\n",
    "print(job.title)\n",
    "print(job.salary)\n",
    "\n",
    "print(job.to_dict())"
   ]
  },
  {
   "cell_type": "markdown",
   "id": "8bd629f3",
   "metadata": {},
   "source": [
    "Problem Statement:\n",
    "Create a class named JobPosting with a method compare_salary that compares the salary of two job postings and returns the title of the job with the higher salary.\n",
    "Instantiate two objects called job1 and job2 of this class and compare their salaries using the compare_salary method.\n",
    "The two objects are defined below in the code needed.\n"
   ]
  },
  {
   "cell_type": "code",
   "execution_count": 68,
   "id": "d2cd1708",
   "metadata": {},
   "outputs": [],
   "source": [
    "class JobPosting:\n",
    "    def __init__(self, title, company, location, salary):\n",
    "        self.title = title\n",
    "        self.company = company\n",
    "        self.location = location\n",
    "        self.salary = salary\n",
    "\n",
    "    def compare_salary(self, other_job):\n",
    "        if self.salary > other_job.salary:\n",
    "            return self.title\n",
    "        else:\n",
    "            return other_job.title"
   ]
  },
  {
   "cell_type": "code",
   "execution_count": 71,
   "id": "462186a9",
   "metadata": {},
   "outputs": [
    {
     "name": "stdout",
     "output_type": "stream",
     "text": [
      "Data Scientist\n"
     ]
    }
   ],
   "source": [
    "job1 = JobPosting('Data Scientist', 'Tech Innovations', 'New York', 120000)\n",
    "job2 = JobPosting('Data Analyst', 'Data Driven Co', 'San Francisco', 100000)\n",
    "print(job1.compare_salary(job2))"
   ]
  },
  {
   "cell_type": "code",
   "execution_count": 73,
   "id": "14a963ef",
   "metadata": {},
   "outputs": [
    {
     "name": "stdout",
     "output_type": "stream",
     "text": [
      "<class 'numpy.ndarray'>\n"
     ]
    }
   ],
   "source": [
    "import numpy as np\n",
    "applications_list = [10, 15, 7, 20, 25, 30, 5]\n",
    "\n",
    "niz = np.array(applications_list)\n",
    "print(type(niz))"
   ]
  },
  {
   "cell_type": "code",
   "execution_count": null,
   "id": "617f5125",
   "metadata": {},
   "outputs": [],
   "source": []
  }
 ],
 "metadata": {
  "kernelspec": {
   "display_name": "python_course",
   "language": "python",
   "name": "python3"
  },
  "language_info": {
   "codemirror_mode": {
    "name": "ipython",
    "version": 3
   },
   "file_extension": ".py",
   "mimetype": "text/x-python",
   "name": "python",
   "nbconvert_exporter": "python",
   "pygments_lexer": "ipython3",
   "version": "3.12.9"
  }
 },
 "nbformat": 4,
 "nbformat_minor": 5
}
