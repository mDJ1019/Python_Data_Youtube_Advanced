{
 "cells": [
  {
   "cell_type": "code",
   "execution_count": 3,
   "id": "4a5ba065",
   "metadata": {},
   "outputs": [],
   "source": [
    "# Importing Libraries\n",
    "import pandas as pd\n",
    "from datasets import load_dataset\n",
    "import matplotlib.pyplot as plt\n",
    "\n",
    "# Loading Datadataset \n",
    "dataset = load_dataset('lukebarousse/data_jobs')\n",
    "df = dataset['train'].to_pandas()\n",
    "\n",
    "# Data Cleanup\n",
    "df['job_posted_date'] = pd.to_datetime(df['job_posted_date'])"
   ]
  },
  {
   "cell_type": "markdown",
   "id": "3f283da3",
   "metadata": {},
   "source": [
    "Problem Statement:\n",
    "Export the DataFrame to a CSV file named data_jobs_export.csv without including the index. Inspect the contents of the CSV exported.\n",
    "\n",
    "Hint:\n",
    "Use the to_csv() function with the index parameter set to False."
   ]
  },
  {
   "cell_type": "code",
   "execution_count": 8,
   "id": "dbdd033b",
   "metadata": {},
   "outputs": [],
   "source": [
    "df.to_csv('data_jobs_export.csv', index=False)"
   ]
  },
  {
   "cell_type": "markdown",
   "id": "280ddfdb",
   "metadata": {},
   "source": [
    "Problem Statement:\n",
    "Filter the DataFrame to include only job postings with 'Data Scientist' in the job_title_short column.\n",
    "Export the filtered DataFrame to a CSV file named data_scientist_jobs.csv without including the index.\n",
    "Inspect that the CSV has been exported with the correct filtered data.\n",
    "Hint:\n",
    "Use the to_csv() function with the index parameter set to False after filtering the DataFrame using boolean indexing."
   ]
  },
  {
   "cell_type": "code",
   "execution_count": 9,
   "id": "b66e6c4e",
   "metadata": {},
   "outputs": [],
   "source": [
    "ds_df = df[df['job_title_short'] == 'Data Scientist']\n",
    "ds_df.to_csv('data_scientist_jobs.csv', index=False)"
   ]
  },
  {
   "cell_type": "markdown",
   "id": "8db69aba",
   "metadata": {},
   "source": [
    "Problem Statement:\n",
    "Filter the DataFrame to include only job postings with 'New York, NY' in the job_location column.\n",
    "Export the filtered DataFrame to an Excel file named new_york_jobs.xlsx without including the index.\n",
    "Display the first 5 rows of the filtered DataFrame to confirm the export.\n",
    "Hint:\n",
    "Use the to_excel() function with the index parameter set to False. You will need to conda install openpyxl library for this."
   ]
  },
  {
   "cell_type": "code",
   "execution_count": 10,
   "id": "af0f6aa2",
   "metadata": {},
   "outputs": [],
   "source": [
    "df_ny = df[df['job_location'] == 'New York, NY']\n",
    "df_ny.to_excel('new_york_jobs.xlsx', index=False)"
   ]
  },
  {
   "cell_type": "code",
   "execution_count": null,
   "id": "d8a97fa2",
   "metadata": {},
   "outputs": [],
   "source": []
  }
 ],
 "metadata": {
  "kernelspec": {
   "display_name": "python_course",
   "language": "python",
   "name": "python3"
  },
  "language_info": {
   "codemirror_mode": {
    "name": "ipython",
    "version": 3
   },
   "file_extension": ".py",
   "mimetype": "text/x-python",
   "name": "python",
   "nbconvert_exporter": "python",
   "pygments_lexer": "ipython3",
   "version": "3.12.9"
  }
 },
 "nbformat": 4,
 "nbformat_minor": 5
}
